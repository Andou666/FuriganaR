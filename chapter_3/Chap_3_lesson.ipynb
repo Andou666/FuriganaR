{
 "cells": [
  {
   "cell_type": "code",
   "execution_count": 1,
   "id": "27c35f7d",
   "metadata": {},
   "outputs": [
    {
     "name": "stdout",
     "output_type": "stream",
     "text": [
      "[1] \"東\"\n",
      "[1] \"西\"\n",
      "[1] \"南\"\n",
      "[1] \"北\"\n"
     ]
    }
   ],
   "source": [
    "# 東西南北を表示するプログラムを書く\n",
    "direction <- c('東', '西', '南', '北')\n",
    "for(d in direction){\n",
    "    print(d)\n",
    "}"
   ]
  },
  {
   "cell_type": "code",
   "execution_count": 3,
   "id": "63c49068",
   "metadata": {},
   "outputs": [
    {
     "name": "stdout",
     "output_type": "stream",
     "text": [
      "[1] \"金曜日\"\n",
      "[1] \"木曜日\"\n",
      "[1] \"水曜日\"\n",
      "[1] \"火曜日\"\n",
      "[1] \"月曜日\"\n"
     ]
    }
   ],
   "source": [
    "# 曜日を逆順に表示するプログラムを書く\n",
    "wdays <- c('月', '火', '水', '木', '金')\n",
    "for(c in 5:1){\n",
    "    print(paste(wdays[c],\"曜日\",sep=\"\"))\n",
    "}"
   ]
  },
  {
   "cell_type": "code",
   "execution_count": null,
   "id": "55f410ec",
   "metadata": {},
   "outputs": [],
   "source": []
  }
 ],
 "metadata": {
  "kernelspec": {
   "display_name": "R",
   "language": "R",
   "name": "ir"
  },
  "language_info": {
   "codemirror_mode": "r",
   "file_extension": ".r",
   "mimetype": "text/x-r-source",
   "name": "R",
   "pygments_lexer": "r",
   "version": "3.6.1"
  }
 },
 "nbformat": 4,
 "nbformat_minor": 5
}
