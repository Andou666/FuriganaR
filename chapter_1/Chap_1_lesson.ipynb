{
 "cells": [
  {
   "cell_type": "code",
   "execution_count": 1,
   "id": "70afacf3",
   "metadata": {},
   "outputs": [
    {
     "name": "stdout",
     "output_type": "stream",
     "text": [
      "[1] 60\n"
     ]
    }
   ],
   "source": [
    "print((2+10)*5)"
   ]
  },
  {
   "cell_type": "code",
   "execution_count": 2,
   "id": "103dca71",
   "metadata": {},
   "outputs": [
    {
     "name": "stdout",
     "output_type": "stream",
     "text": [
      "[1] 108\n"
     ]
    }
   ],
   "source": [
    "teika<-100\n",
    "urine<-teika*1.08\n",
    "print(urine)"
   ]
  },
  {
   "cell_type": "code",
   "execution_count": null,
   "id": "49c4288d",
   "metadata": {},
   "outputs": [],
   "source": []
  }
 ],
 "metadata": {
  "kernelspec": {
   "display_name": "R",
   "language": "R",
   "name": "ir"
  },
  "language_info": {
   "codemirror_mode": "r",
   "file_extension": ".r",
   "mimetype": "text/x-r-source",
   "name": "R",
   "pygments_lexer": "r",
   "version": "3.6.1"
  }
 },
 "nbformat": 4,
 "nbformat_minor": 5
}
