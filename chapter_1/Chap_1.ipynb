{
 "cells": [
  {
   "cell_type": "code",
   "execution_count": 3,
   "id": "f10dfd8b",
   "metadata": {},
   "outputs": [
    {
     "name": "stdout",
     "output_type": "stream",
     "text": [
      "[1] \"ハロー！\"\n"
     ]
    }
   ],
   "source": [
    "# 文字を表示\n",
    "print(\"ハロー！\")"
   ]
  },
  {
   "cell_type": "code",
   "execution_count": 4,
   "id": "b88d5685",
   "metadata": {},
   "outputs": [
    {
     "name": "stdout",
     "output_type": "stream",
     "text": [
      "[1] 15\n",
      "[1] 5\n"
     ]
    }
   ],
   "source": [
    "# 足し算と引き算\n",
    "print(10+5)\n",
    "print(10-5)"
   ]
  },
  {
   "cell_type": "code",
   "execution_count": 5,
   "id": "400cf165",
   "metadata": {},
   "outputs": [
    {
     "name": "stdout",
     "output_type": "stream",
     "text": [
      "[1] 50\n",
      "[1] 2\n"
     ]
    }
   ],
   "source": [
    "# 掛け算と割り算\n",
    "print(10*5)\n",
    "print(10/5)"
   ]
  },
  {
   "cell_type": "code",
   "execution_count": 7,
   "id": "dadcf941",
   "metadata": {},
   "outputs": [
    {
     "name": "stdout",
     "output_type": "stream",
     "text": [
      "[1] 2.5\n"
     ]
    }
   ],
   "source": [
    "# 整数と実数\n",
    "print(2+0.5)"
   ]
  },
  {
   "cell_type": "code",
   "execution_count": 8,
   "id": "69fe6977",
   "metadata": {},
   "outputs": [
    {
     "name": "stdout",
     "output_type": "stream",
     "text": [
      "[1] 17\n"
     ]
    }
   ],
   "source": [
    "# 同じ優先順位の演算子を組み合わせた式\n",
    "print(2+10+5)"
   ]
  },
  {
   "cell_type": "code",
   "execution_count": 9,
   "id": "fa778cfe",
   "metadata": {},
   "outputs": [
    {
     "name": "stdout",
     "output_type": "stream",
     "text": [
      "[1] 52\n"
     ]
    }
   ],
   "source": [
    "# 優先順位が異なる演算子を組み合わせた式\n",
    "print(2+10*5)"
   ]
  },
  {
   "cell_type": "code",
   "execution_count": 10,
   "id": "6f817618",
   "metadata": {},
   "outputs": [
    {
     "name": "stdout",
     "output_type": "stream",
     "text": [
      "[1] 60\n"
     ]
    }
   ],
   "source": [
    "# カッコを使って計算順位を変える\n",
    "print((2+10)*5)"
   ]
  },
  {
   "cell_type": "code",
   "execution_count": 11,
   "id": "16f27f9e",
   "metadata": {},
   "outputs": [
    {
     "name": "stdout",
     "output_type": "stream",
     "text": [
      "[1] 1.5625\n"
     ]
    }
   ],
   "source": [
    "# カッコの中にカッコが入れ子になった式\n",
    "print(5/(4*(1-0.2)))"
   ]
  },
  {
   "cell_type": "code",
   "execution_count": 12,
   "id": "f4a85f62",
   "metadata": {},
   "outputs": [
    {
     "name": "stdout",
     "output_type": "stream",
     "text": [
      "[1] -48\n"
     ]
    }
   ],
   "source": [
    "# 負の数を表す「-」\n",
    "print(2+10*-5)"
   ]
  },
  {
   "cell_type": "code",
   "execution_count": 13,
   "id": "3c356d31",
   "metadata": {},
   "outputs": [
    {
     "name": "stdout",
     "output_type": "stream",
     "text": [
      "[1] \"ハロー!\"\n"
     ]
    }
   ],
   "source": [
    "# 変数を作成してそこに値を代入する\n",
    "text <- 'ハロー!'\n",
    "print(text)"
   ]
  },
  {
   "cell_type": "code",
   "execution_count": 14,
   "id": "8facb110",
   "metadata": {},
   "outputs": [
    {
     "name": "stdout",
     "output_type": "stream",
     "text": [
      "[1] 108\n"
     ]
    }
   ],
   "source": [
    "# 変数を使うメリットは?\n",
    "teika <- 100\n",
    "urine <- teika * 1.08\n",
    "print(urine)"
   ]
  },
  {
   "cell_type": "code",
   "execution_count": 15,
   "id": "67dab779",
   "metadata": {},
   "outputs": [
    {
     "name": "stdout",
     "output_type": "stream",
     "text": [
      "[1] 162\n"
     ]
    }
   ],
   "source": [
    "# 変数を使うメリットは?\n",
    "teika <- 150\n",
    "urine <- teika * 1.08\n",
    "print(urine)"
   ]
  },
  {
   "cell_type": "code",
   "execution_count": 16,
   "id": "10935a5b",
   "metadata": {},
   "outputs": [
    {
     "name": "stdout",
     "output_type": "stream",
     "text": [
      "入力せよtest\n",
      "[1] \"test\"\n"
     ]
    }
   ],
   "source": [
    "# 入力した内容をそのまま表示するウプログラムをつくる\n",
    "text  <- readline('入力せよ')\n",
    "print(text)"
   ]
  },
  {
   "cell_type": "code",
   "execution_count": 20,
   "id": "e1ea32e0",
   "metadata": {},
   "outputs": [
    {
     "name": "stdout",
     "output_type": "stream",
     "text": [
      "入力せよtest\n",
      "[1] \"あなたが入力したのはtest\"\n"
     ]
    }
   ],
   "source": [
    "# 入力結果をちょっと加工して表示する\n",
    "text <- readline('入力せよ')\n",
    "print(paste('あなたが入力したのは',text, sep = \"\"))"
   ]
  },
  {
   "cell_type": "code",
   "execution_count": 19,
   "id": "820ff3d3",
   "metadata": {},
   "outputs": [
    {
     "name": "stdout",
     "output_type": "stream",
     "text": [
      "定価を入力せよ100\n"
     ]
    },
    {
     "ename": "ERROR",
     "evalue": "Error in teika * 1.08:  二項演算子の引数が数値ではありません \n",
     "output_type": "error",
     "traceback": [
      "Error in teika * 1.08:  二項演算子の引数が数値ではありません \nTraceback:\n",
      "1. print(teika * 1.08)"
     ]
    }
   ],
   "source": [
    "# データの「型」とは？\n",
    "teika <- readline('定価を入力せよ')\n",
    "print(teika*1.08)"
   ]
  },
  {
   "cell_type": "code",
   "execution_count": 21,
   "id": "ee56965f",
   "metadata": {},
   "outputs": [
    {
     "name": "stdout",
     "output_type": "stream",
     "text": [
      "定価を入力せよ100\n",
      "[1] 108\n"
     ]
    }
   ],
   "source": [
    "# 文字列のデータ型を数値のデータ型に変換する\n",
    "teika <- readline('定価を入力せよ')\n",
    "print(as.integer(teika)*1.08)"
   ]
  },
  {
   "cell_type": "code",
   "execution_count": 1,
   "id": "99abf18a",
   "metadata": {},
   "outputs": [
    {
     "ename": "ERROR",
     "evalue": "Error in pint(\"ハロー!\"):  関数 \"pint\" を見つけることができませんでした \n",
     "output_type": "error",
     "traceback": [
      "Error in pint(\"ハロー!\"):  関数 \"pint\" を見つけることができませんでした \nTraceback:\n"
     ]
    }
   ],
   "source": [
    "# ネームエラー\n",
    "pint('ハロー!')"
   ]
  },
  {
   "cell_type": "code",
   "execution_count": null,
   "id": "58c27484",
   "metadata": {},
   "outputs": [],
   "source": []
  }
 ],
 "metadata": {
  "kernelspec": {
   "display_name": "R",
   "language": "R",
   "name": "ir"
  },
  "language_info": {
   "codemirror_mode": "r",
   "file_extension": ".r",
   "mimetype": "text/x-r-source",
   "name": "R",
   "pygments_lexer": "r",
   "version": "3.6.1"
  }
 },
 "nbformat": 4,
 "nbformat_minor": 5
}
