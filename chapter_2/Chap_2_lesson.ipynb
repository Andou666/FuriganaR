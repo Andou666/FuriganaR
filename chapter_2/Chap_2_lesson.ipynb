{
 "cells": [
  {
   "cell_type": "code",
   "execution_count": 1,
   "id": "cac286bf",
   "metadata": {},
   "outputs": [
    {
     "name": "stdout",
     "output_type": "stream",
     "text": [
      "年齢は？2\n",
      "[1] \"幼児\"\n"
     ]
    }
   ],
   "source": [
    "# // 6歳未満なら「幼児」と表示するプログラムをつくる\n",
    "moji <- readline(\"年齢は？\")\n",
    "age <- as.numeric(moji)\n",
    "if(age < 6){\n",
    "    print(\"幼児\")\n",
    "}"
   ]
  },
  {
   "cell_type": "code",
   "execution_count": null,
   "id": "f2e11452",
   "metadata": {},
   "outputs": [],
   "source": []
  }
 ],
 "metadata": {
  "kernelspec": {
   "display_name": "R",
   "language": "R",
   "name": "ir"
  },
  "language_info": {
   "codemirror_mode": "r",
   "file_extension": ".r",
   "mimetype": "text/x-r-source",
   "name": "R",
   "pygments_lexer": "r",
   "version": "3.6.1"
  }
 },
 "nbformat": 4,
 "nbformat_minor": 5
}
