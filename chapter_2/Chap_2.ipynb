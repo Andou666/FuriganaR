{
 "cells": [
  {
   "cell_type": "code",
   "execution_count": 2,
   "id": "aba9da29",
   "metadata": {},
   "outputs": [
    {
     "name": "stdout",
     "output_type": "stream",
     "text": [
      "[1] TRUE\n"
     ]
    }
   ],
   "source": [
    "# is.character()を使ってみよう\n",
    "moji <- \"文字\"\n",
    "print(is.character(moji))"
   ]
  },
  {
   "cell_type": "code",
   "execution_count": 3,
   "id": "bf083e96",
   "metadata": {},
   "outputs": [
    {
     "name": "stdout",
     "output_type": "stream",
     "text": [
      "[1] \"数字ではない\"\n"
     ]
    }
   ],
   "source": [
    "# 文字列が数字だったらメッセージを表示する\n",
    "moji <- \"文字\"\n",
    "if(is.character(moji)){\n",
    "    print('数字ではない')\n",
    "}"
   ]
  },
  {
   "cell_type": "code",
   "execution_count": 5,
   "id": "742071b8",
   "metadata": {},
   "outputs": [
    {
     "name": "stdout",
     "output_type": "stream",
     "text": [
      "[1] 180\n"
     ]
    }
   ],
   "source": [
    "# 数値のときは計算する\n",
    "moji <- 100;\n",
    "if(!is.character(moji)){\n",
    "    print(moji+80)\n",
    "}"
   ]
  },
  {
   "cell_type": "code",
   "execution_count": 6,
   "id": "36078b19",
   "metadata": {},
   "outputs": [
    {
     "name": "stdout",
     "output_type": "stream",
     "text": [
      "[1] \"数字ではない\"\n"
     ]
    }
   ],
   "source": [
    "# else説を追加してみよう\n",
    "moji <- \"文字\"\n",
    "if(!is.character(moji)){\n",
    "    print(moji+80)\n",
    "}else{\n",
    "    print('数字ではない')\n",
    "}"
   ]
  },
  {
   "cell_type": "code",
   "execution_count": 7,
   "id": "e84d2623",
   "metadata": {},
   "outputs": [
    {
     "name": "stdout",
     "output_type": "stream",
     "text": [
      "[1] TRUE\n",
      "[1] FALSE\n"
     ]
    }
   ],
   "source": [
    "# 比較する式の結果を見てみよう\n",
    "print(4<5)\n",
    "print(6<5)"
   ]
  },
  {
   "cell_type": "code",
   "execution_count": 9,
   "id": "f4ad97e9",
   "metadata": {},
   "outputs": [
    {
     "name": "stdout",
     "output_type": "stream",
     "text": [
      "年齢は？12\n",
      "[1] \"未成年\"\n"
     ]
    }
   ],
   "source": [
    "# if文と比較する式を組み合わせる\n",
    "age <- readline('年齢は？') \n",
    "if(age < 20){\n",
    "    print('未成年')\n",
    "}"
   ]
  },
  {
   "cell_type": "code",
   "execution_count": 10,
   "id": "b5e085ed",
   "metadata": {},
   "outputs": [
    {
     "name": "stdout",
     "output_type": "stream",
     "text": [
      "年齢は？24\n",
      "[1] \"成人\"\n"
     ]
    }
   ],
   "source": [
    "# else if節の書き方を憶えよう\n",
    "age <- readline('年齢は？')\n",
    "if(age<20){\n",
    "    print('未成年')\n",
    "}else if(age < 65){\n",
    "    print('成人')\n",
    "}else{\n",
    "    print('高齢者')\n",
    "}"
   ]
  },
  {
   "cell_type": "code",
   "execution_count": 21,
   "id": "a44ab78f",
   "metadata": {},
   "outputs": [
    {
     "name": "stdout",
     "output_type": "stream",
     "text": [
      "年齢は？12\n",
      "[1] \"数字\"\n",
      "[1] \"未成年\"\n"
     ]
    }
   ],
   "source": [
    "# 2つのif文を組み合わせる\n",
    "age <- readline('年齢は？')\n",
    "if(is.character(age)){\n",
    "    print('数字')\n",
    "    if(age<20){\n",
    "        print('未成年')\n",
    "    }\n",
    "}"
   ]
  },
  {
   "cell_type": "code",
   "execution_count": 25,
   "id": "65199af4",
   "metadata": {},
   "outputs": [
    {
     "name": "stdout",
     "output_type": "stream",
     "text": [
      "年齢は？13\n",
      "[1] \"義務教育の対象\"\n"
     ]
    }
   ],
   "source": [
    "# 義務教育の対象かどうかをチェックする\n",
    "moji <- readline(\"年齢は？\")\n",
    "age <- as.numeric(moji)\n",
    "if( (age >= 6) && (age <= 15) ){\n",
    "    print(\"義務教育の対象\")\n",
    "}"
   ]
  },
  {
   "cell_type": "code",
   "execution_count": 26,
   "id": "5d43993e",
   "metadata": {},
   "outputs": [
    {
     "name": "stdout",
     "output_type": "stream",
     "text": [
      "年齢は？1\n",
      "[1] \"幼児と高齢者\"\n"
     ]
    }
   ],
   "source": [
    "# 幼児と高齢者だけを対象にする\n",
    "moji <- readline(\"年齢は？\")\n",
    "age <- as.numeric(moji)\n",
    "if ( age <= 5 || age >=65 ){\n",
    "    print(\"幼児と高齢者\")\n",
    "}"
   ]
  },
  {
   "cell_type": "code",
   "execution_count": null,
   "id": "dceabdc3",
   "metadata": {},
   "outputs": [],
   "source": []
  },
  {
   "cell_type": "code",
   "execution_count": null,
   "id": "02d81965",
   "metadata": {},
   "outputs": [],
   "source": []
  }
 ],
 "metadata": {
  "kernelspec": {
   "display_name": "R",
   "language": "R",
   "name": "ir"
  },
  "language_info": {
   "codemirror_mode": "r",
   "file_extension": ".r",
   "mimetype": "text/x-r-source",
   "name": "R",
   "pygments_lexer": "r",
   "version": "3.6.1"
  }
 },
 "nbformat": 4,
 "nbformat_minor": 5
}
